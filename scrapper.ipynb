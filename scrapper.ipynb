{
 "cells": [
  {
   "cell_type": "code",
   "execution_count": 11,
   "id": "0b97d828",
   "metadata": {},
   "outputs": [
    {
     "data": {
      "text/html": [
       "<style> .container{width : 100%} </style>"
      ],
      "text/plain": [
       "<IPython.core.display.HTML object>"
      ]
     },
     "metadata": {},
     "output_type": "display_data"
    }
   ],
   "source": [
    "from IPython.display import display, HTML\n",
    "display(HTML('<style> .container{width : 100%} </style>'))"
   ]
  },
  {
   "cell_type": "code",
   "execution_count": 4,
   "id": "14d1e93e",
   "metadata": {},
   "outputs": [],
   "source": [
    "import subprocess\n",
    "import os\n",
    "import json\n",
    "import requests\n",
    "import math\n",
    "import numpy as np\n",
    "from bs4 import BeautifulSoup\n",
    "from selenium import webdriver\n",
    "from time import sleep\n",
    "from selenium.webdriver.chrome.options import Options\n",
    "from selenium.webdriver.common.desired_capabilities import DesiredCapabilities"
   ]
  },
  {
   "cell_type": "code",
   "execution_count": null,
   "id": "680f01d0",
   "metadata": {},
   "outputs": [],
   "source": [
    "url = input('Enter animefreak.site link here: ') #https://animefreak.site/anime/sword-art-online-alicization-war-of-underworld"
   ]
  },
  {
   "cell_type": "code",
   "execution_count": null,
   "id": "875f208f",
   "metadata": {},
   "outputs": [],
   "source": [
    "from_ep = int(input('Download from episode no: '))"
   ]
  },
  {
   "cell_type": "code",
   "execution_count": null,
   "id": "9fc4a32e",
   "metadata": {},
   "outputs": [],
   "source": [
    "max_download = int(input('Max download size: '))"
   ]
  },
  {
   "cell_type": "code",
   "execution_count": 4,
   "id": "ea39d576",
   "metadata": {},
   "outputs": [],
   "source": [
    "class json_io:\n",
    "    \n",
    "    def read(name):\n",
    "        with open(name, 'r') as f:\n",
    "            data = json.load(f)\n",
    "            f.close()\n",
    "        return data\n",
    "            \n",
    "    def write(name, mode, fdata):\n",
    "        if mode == 'a':\n",
    "            data = json_io.read(name)\n",
    "            data.update(fdata)\n",
    "        else:\n",
    "            data = fdata\n",
    "        with open(name, 'w') as f:\n",
    "            s = json.dumps(data, indent = 4)\n",
    "            print(s, file = f)"
   ]
  },
  {
   "cell_type": "code",
   "execution_count": 5,
   "id": "ad9aa17f",
   "metadata": {},
   "outputs": [],
   "source": [
    "class Anime:\n",
    "    \n",
    "    def __init__(self, url):\n",
    "        self.url = url\n",
    "        self.link_name = url.split('/')[-1]\n",
    "        self.name = self.link_name.replace('-', ' ').title()\n",
    "        self.episode = self.extract_ep()\n",
    "        \n",
    "    def extract_ep(self):\n",
    "        \n",
    "        if 'animefreak.site' in  self.url:\n",
    "            episode = {}\n",
    "            t_url = f'https://animefreak.site/watch/{self.link_name}-episode-1'\n",
    "            t_r = requests.get(t_url)\n",
    "            t_soup = BeautifulSoup(t_r.content, 'html.parser')\n",
    "            for i in t_soup.find_all('a', {'class' : ['ssl-item ep-item', 'ssl-item ep-item active']}):\n",
    "                episode[i.get('title')] = f\"https://animefreak.site{i.get('href')}\"\n",
    "            episode = dict(reversed(episode.items()))\n",
    "\n",
    "            return episode\n",
    "        \n",
    "        if 'gogoanime2.org' in  self.url:\n",
    "            episode = {}\n",
    "            t_r = requests.get(self.url)\n",
    "            t_soup = BeautifulSoup(t_r.content, 'html.parser')\n",
    "            for i in t_soup.find_all('div', {'class':'anime_video_body'})[0].find_all('a'):\n",
    "                episode[i.find('div').text.replace('  ',' ')] = f\"https://ww3.gogoanime2.org{i.get('href')}\"\n",
    "\n",
    "            return episode"
   ]
  },
  {
   "cell_type": "code",
   "execution_count": 73,
   "id": "5dc9567f",
   "metadata": {},
   "outputs": [],
   "source": [
    "class browser:\n",
    "    \n",
    "    __path = 'C:/Program Files/BraveSoftware/Brave-Browser/Application/brave.exe'\n",
    "    __headers =  {\n",
    "    'User-Agent' : 'Mozilla/5.0 (Windows NT 10.0; Win64; x64) AppleWebKit/537.36 (KHTML, like Gecko) Chrome/96.0.4664.110 Safari/537.36',\n",
    "    'Accept-Language' : 'en-GB,en;q=0.5',\n",
    "    'Referer' : 'https:google.com',\n",
    "    'DNT' : '1'\n",
    "    }\n",
    "    \n",
    "    def initiate(url):\n",
    "        \n",
    "        options = Options()\n",
    "        options.binary_location = browser.__path\n",
    "#         options.add_argument('--user-data-dir=~/.e2e-chrome-profile')\n",
    "        options.add_experimental_option(\"excludeSwitches\", [\"enable-automation\"])\n",
    "        options.add_experimental_option('useAutomationExtension', False)\n",
    "\n",
    "        caps = DesiredCapabilities.CHROME\n",
    "        caps['goog:loggingPrefs'] = {'performance' : 'ALL'}\n",
    "        \n",
    "        driver = webdriver.Chrome(service = Service('backend/chromedriver.exe'),desired_capabilities = caps, options = options)\n",
    "        \n",
    "        stealth(driver,\n",
    "            languages=[\"en-US\", \"en\"],\n",
    "            vendor=\"Google Inc.\",\n",
    "            platform=\"Win32\",\n",
    "            webgl_vendor=\"Intel Inc.\",\n",
    "            renderer=\"Intel Iris OpenGL Engine\",\n",
    "            fix_hairline=True,\n",
    "        )\n",
    "        \n",
    "#         driver.request_interceptor = browser.__headers\n",
    "        \n",
    "        driver.get(url)\n",
    "        sleep(20)\n",
    "        perf = driver.get_log('performance')\n",
    "        driver.close()\n",
    "        \n",
    "        return perf"
   ]
  },
  {
   "cell_type": "code",
   "execution_count": 7,
   "id": "82108821",
   "metadata": {},
   "outputs": [],
   "source": [
    "def extract_m3u8(y):\n",
    "    for a in y:\n",
    "        if '.m3u8' in str(a):\n",
    "            for b in str(a).split(','):\n",
    "                if '.m3u8' in b:\n",
    "                    link = b[7:-2]\n",
    "                    break\n",
    "            break\n",
    "    return link"
   ]
  },
  {
   "cell_type": "code",
   "execution_count": 8,
   "id": "1ecb8849",
   "metadata": {},
   "outputs": [],
   "source": [
    "def cli_command(li, name):\n",
    "    \n",
    "    link = extract_m3u8(li)\n",
    "    \n",
    "    curr_dir = os.getcwd()\n",
    "    ffmpeg_path = curr_dir + '\\\\backend\\\\ffmpeg\\\\bin\\\\ffmpeg'\n",
    "    op = curr_dir + '\\\\' + output_path + '\\\\' + name + '.mkv'\n",
    "\n",
    "    string = f\"{ffmpeg_path} -i {link} -c copy -bsf:a aac_adtstoasc {op}\"\n",
    "    \n",
    "    return string"
   ]
  },
  {
   "cell_type": "code",
   "execution_count": null,
   "id": "eabaaf78",
   "metadata": {},
   "outputs": [],
   "source": [
    "anime = Anime(url)\n",
    "\n",
    "log = {anime.name : { 'url' : anime.url,\n",
    "              'episode': anime.episode}}\n",
    "\n",
    "json_io.write(f'{anime.name}.json', 'w', log)"
   ]
  },
  {
   "cell_type": "code",
   "execution_count": null,
   "id": "f2c4e8a1",
   "metadata": {},
   "outputs": [],
   "source": [
    "output_path = f\"Download\\\\{anime.name.replace(' ', '_')}\"\n",
    "if not os.path.exists(output_path):\n",
    "    os.mkdir(output_path)"
   ]
  },
  {
   "cell_type": "code",
   "execution_count": null,
   "id": "6df3422d",
   "metadata": {},
   "outputs": [],
   "source": [
    "# for i in log:\n",
    "#     for j in list(log[i]['episode'])[from_ep:]:\n",
    "\n",
    "#         name = j.split()[-1]\n",
    "#         print(name)\n",
    "#         web_link = log[i]['episode'][j]\n",
    "\n",
    "#         y = browser.initiate(web_link)\n",
    "\n",
    "#         cmd = cli_command(y, name)\n",
    "\n",
    "#         os.system(cmd)\n",
    "        \n",
    "#         log[i]['episode'].pop(j)\n",
    "\n",
    "#         json_io.write(f'{anime.name}.json', 'w', log)\n",
    "\n",
    "#     os.remove(f'{anime.name}.json')"
   ]
  },
  {
   "cell_type": "code",
   "execution_count": 24,
   "id": "b2843169",
   "metadata": {
    "scrolled": true
   },
   "outputs": [
    {
     "data": {
      "text/html": [
       "<style> .container{width : 100%} </style>"
      ],
      "text/plain": [
       "<IPython.core.display.HTML object>"
      ]
     },
     "metadata": {},
     "output_type": "display_data"
    },
    {
     "name": "stdout",
     "output_type": "stream",
     "text": [
      "Enter animefreak.site link here: https://animefreak.site/anime/overlord-ii\n",
      "Download from episode no: 0\n",
      "Max download size: 3\n"
     ]
    },
    {
     "name": "stderr",
     "output_type": "stream",
     "text": [
      "C:\\Users\\caaka\\AppData\\Local\\Temp\\ipykernel_16984\\3251724408.py:88: DeprecationWarning: executable_path has been deprecated, please pass in a Service object\n",
      "  driver = webdriver.Chrome(executable_path = 'backend/chromedriver.exe',desired_capabilities = caps, options = options)\n"
     ]
    },
    {
     "ename": "UnboundLocalError",
     "evalue": "local variable 'link' referenced before assignment",
     "output_type": "error",
     "traceback": [
      "\u001b[1;31m---------------------------------------------------------------------------\u001b[0m",
      "\u001b[1;31mUnboundLocalError\u001b[0m                         Traceback (most recent call last)",
      "Input \u001b[1;32mIn [24]\u001b[0m, in \u001b[0;36m<cell line: 150>\u001b[1;34m()\u001b[0m\n\u001b[0;32m    162\u001b[0m     web_link \u001b[38;5;241m=\u001b[39m log[i][\u001b[38;5;124m'\u001b[39m\u001b[38;5;124mepisode\u001b[39m\u001b[38;5;124m'\u001b[39m][j]\n\u001b[0;32m    163\u001b[0m     y \u001b[38;5;241m=\u001b[39m browser\u001b[38;5;241m.\u001b[39minitiate(web_link)\n\u001b[1;32m--> 164\u001b[0m     cmd \u001b[38;5;241m=\u001b[39m \u001b[43mcli_command\u001b[49m\u001b[43m(\u001b[49m\u001b[43my\u001b[49m\u001b[43m,\u001b[49m\u001b[43m \u001b[49m\u001b[43mname\u001b[49m\u001b[43m)\u001b[49m\n\u001b[0;32m    165\u001b[0m     li\u001b[38;5;241m.\u001b[39mappend((j, name, cmd))\n\u001b[0;32m    167\u001b[0m \u001b[38;5;28;01mfor\u001b[39;00m j \u001b[38;5;129;01min\u001b[39;00m li[\u001b[38;5;241m1\u001b[39m:]:\n",
      "Input \u001b[1;32mIn [24]\u001b[0m, in \u001b[0;36mcli_command\u001b[1;34m(li, name)\u001b[0m\n\u001b[0;32m    108\u001b[0m \u001b[38;5;28;01mdef\u001b[39;00m \u001b[38;5;21mcli_command\u001b[39m(li, name):\n\u001b[1;32m--> 110\u001b[0m     link \u001b[38;5;241m=\u001b[39m \u001b[43mextract_m3u8\u001b[49m\u001b[43m(\u001b[49m\u001b[43mli\u001b[49m\u001b[43m)\u001b[49m\n\u001b[0;32m    112\u001b[0m     curr_dir \u001b[38;5;241m=\u001b[39m os\u001b[38;5;241m.\u001b[39mgetcwd()\n\u001b[0;32m    113\u001b[0m     ffmpeg_path \u001b[38;5;241m=\u001b[39m curr_dir \u001b[38;5;241m+\u001b[39m \u001b[38;5;124m'\u001b[39m\u001b[38;5;130;01m\\\\\u001b[39;00m\u001b[38;5;124mbackend\u001b[39m\u001b[38;5;130;01m\\\\\u001b[39;00m\u001b[38;5;124mffmpeg\u001b[39m\u001b[38;5;130;01m\\\\\u001b[39;00m\u001b[38;5;124mbin\u001b[39m\u001b[38;5;130;01m\\\\\u001b[39;00m\u001b[38;5;124mffmpeg\u001b[39m\u001b[38;5;124m'\u001b[39m\n",
      "Input \u001b[1;32mIn [24]\u001b[0m, in \u001b[0;36mextract_m3u8\u001b[1;34m(y)\u001b[0m\n\u001b[0;32m    104\u001b[0m                 \u001b[38;5;28;01mbreak\u001b[39;00m\n\u001b[0;32m    105\u001b[0m         \u001b[38;5;28;01mbreak\u001b[39;00m\n\u001b[1;32m--> 106\u001b[0m \u001b[38;5;28;01mreturn\u001b[39;00m \u001b[43mlink\u001b[49m\n",
      "\u001b[1;31mUnboundLocalError\u001b[0m: local variable 'link' referenced before assignment"
     ]
    }
   ],
   "source": [
    "for i in log:\n",
    "    \n",
    "    ep_li = list(log[i]['episode'])[from_ep:]\n",
    "    batch_size = math.ceil(len(ep_li) / max_download) \n",
    "    batch = np.array_split(ep_li, batch_size)\n",
    "    \n",
    "    for n in batch:\n",
    "        \n",
    "        li = []\n",
    "        \n",
    "        try:\n",
    "            for j in n:\n",
    "                name = j.split()[-1]\n",
    "                web_link = log[i]['episode'][j]\n",
    "                y = browser.initiate(web_link)\n",
    "                cmd = cli_command(y, name)\n",
    "                li.append((j, name, cmd))\n",
    "        except:\n",
    "            pass\n",
    "\n",
    "        for j in li[1:]:\n",
    "            os.system(f'start cmd /k {j[2]}')\n",
    "            log[i]['episode'].pop(j[0])\n",
    "            \n",
    "        os.system(f'start cmd /k {li[0][2]}')\n",
    "        \n",
    "        log[i]['episode'].pop(li[0][0])\n",
    "          \n",
    "        json_io.write(f'{anime.name}.json', 'w', log)\n",
    "\n",
    "    os.remove(f'{anime.name}.json')   "
   ]
  },
  {
   "cell_type": "code",
   "execution_count": null,
   "id": "3cce58c9",
   "metadata": {},
   "outputs": [],
   "source": []
  },
  {
   "cell_type": "code",
   "execution_count": null,
   "id": "53af9cdc",
   "metadata": {},
   "outputs": [],
   "source": []
  },
  {
   "cell_type": "code",
   "execution_count": null,
   "id": "669f3330",
   "metadata": {},
   "outputs": [],
   "source": []
  },
  {
   "cell_type": "code",
   "execution_count": null,
   "id": "38affdf8",
   "metadata": {},
   "outputs": [],
   "source": []
  },
  {
   "cell_type": "code",
   "execution_count": null,
   "id": "e9c556c3",
   "metadata": {},
   "outputs": [],
   "source": []
  },
  {
   "cell_type": "code",
   "execution_count": 19,
   "id": "52c1c750",
   "metadata": {},
   "outputs": [],
   "source": [
    "import undetected_chromedriver as uc"
   ]
  },
  {
   "cell_type": "code",
   "execution_count": 32,
   "id": "1beca112",
   "metadata": {},
   "outputs": [],
   "source": [
    "from selenium_stealth import stealth\n",
    "from selenium.webdriver.chrome.service import Service"
   ]
  },
  {
   "cell_type": "code",
   "execution_count": 74,
   "id": "fc367485",
   "metadata": {},
   "outputs": [],
   "source": [
    "url = 'https://ww3.gogoanime2.org/watch/isekai-meikyuu-de-harem-wo-uncensored/1'"
   ]
  },
  {
   "cell_type": "code",
   "execution_count": 75,
   "id": "e2c8e8d2",
   "metadata": {
    "scrolled": false
   },
   "outputs": [
    {
     "ename": "WebDriverException",
     "evalue": "Message: chrome not reachable\n  (Session info: chrome=105.0.5195.127)\nStacktrace:\nBacktrace:\n\tOrdinal0 [0x00A378B3+2193587]\n\tOrdinal0 [0x009D0681+1771137]\n\tOrdinal0 [0x008E4070+802928]\n\tOrdinal0 [0x008D9AB2+760498]\n\tOrdinal0 [0x008CC440+705600]\n\tOrdinal0 [0x00933BC0+1129408]\n\tOrdinal0 [0x0092D773+1103731]\n\tOrdinal0 [0x009077E0+948192]\n\tOrdinal0 [0x009086E6+952038]\n\tGetHandleVerifier [0x00CE0CB2+2738370]\n\tGetHandleVerifier [0x00CD21B8+2678216]\n\tGetHandleVerifier [0x00AC17AA+512954]\n\tGetHandleVerifier [0x00AC0856+509030]\n\tOrdinal0 [0x009D743B+1799227]\n\tOrdinal0 [0x009DBB68+1817448]\n\tOrdinal0 [0x009DBC55+1817685]\n\tOrdinal0 [0x009E5230+1856048]\n\tBaseThreadInitThunk [0x76A96739+25]\n\tRtlGetFullPathName_UEx [0x77D48FD2+1218]\n\tRtlGetFullPathName_UEx [0x77D48F9D+1165]\n",
     "output_type": "error",
     "traceback": [
      "\u001b[1;31m---------------------------------------------------------------------------\u001b[0m",
      "\u001b[1;31mWebDriverException\u001b[0m                        Traceback (most recent call last)",
      "Input \u001b[1;32mIn [75]\u001b[0m, in \u001b[0;36m<cell line: 1>\u001b[1;34m()\u001b[0m\n\u001b[1;32m----> 1\u001b[0m y \u001b[38;5;241m=\u001b[39m \u001b[43mbrowser\u001b[49m\u001b[38;5;241;43m.\u001b[39;49m\u001b[43minitiate\u001b[49m\u001b[43m(\u001b[49m\u001b[43murl\u001b[49m\u001b[43m)\u001b[49m\n",
      "Input \u001b[1;32mIn [73]\u001b[0m, in \u001b[0;36mbrowser.initiate\u001b[1;34m(url)\u001b[0m\n\u001b[0;32m     36\u001b[0m sleep(\u001b[38;5;241m20\u001b[39m)\n\u001b[0;32m     37\u001b[0m perf \u001b[38;5;241m=\u001b[39m driver\u001b[38;5;241m.\u001b[39mget_log(\u001b[38;5;124m'\u001b[39m\u001b[38;5;124mperformance\u001b[39m\u001b[38;5;124m'\u001b[39m)\n\u001b[1;32m---> 38\u001b[0m \u001b[43mdriver\u001b[49m\u001b[38;5;241;43m.\u001b[39;49m\u001b[43mclose\u001b[49m\u001b[43m(\u001b[49m\u001b[43m)\u001b[49m\n\u001b[0;32m     40\u001b[0m \u001b[38;5;28;01mreturn\u001b[39;00m perf\n",
      "File \u001b[1;32m~\\anaconda3\\lib\\site-packages\\selenium\\webdriver\\remote\\webdriver.py:937\u001b[0m, in \u001b[0;36mWebDriver.close\u001b[1;34m(self)\u001b[0m\n\u001b[0;32m    928\u001b[0m \u001b[38;5;28;01mdef\u001b[39;00m \u001b[38;5;21mclose\u001b[39m(\u001b[38;5;28mself\u001b[39m) \u001b[38;5;241m-\u001b[39m\u001b[38;5;241m>\u001b[39m \u001b[38;5;28;01mNone\u001b[39;00m:\n\u001b[0;32m    929\u001b[0m     \u001b[38;5;124;03m\"\"\"\u001b[39;00m\n\u001b[0;32m    930\u001b[0m \u001b[38;5;124;03m    Closes the current window.\u001b[39;00m\n\u001b[0;32m    931\u001b[0m \n\u001b[1;32m   (...)\u001b[0m\n\u001b[0;32m    935\u001b[0m \u001b[38;5;124;03m            driver.close()\u001b[39;00m\n\u001b[0;32m    936\u001b[0m \u001b[38;5;124;03m    \"\"\"\u001b[39;00m\n\u001b[1;32m--> 937\u001b[0m     \u001b[38;5;28;43mself\u001b[39;49m\u001b[38;5;241;43m.\u001b[39;49m\u001b[43mexecute\u001b[49m\u001b[43m(\u001b[49m\u001b[43mCommand\u001b[49m\u001b[38;5;241;43m.\u001b[39;49m\u001b[43mCLOSE\u001b[49m\u001b[43m)\u001b[49m\n",
      "File \u001b[1;32m~\\anaconda3\\lib\\site-packages\\selenium\\webdriver\\remote\\webdriver.py:424\u001b[0m, in \u001b[0;36mWebDriver.execute\u001b[1;34m(self, driver_command, params)\u001b[0m\n\u001b[0;32m    422\u001b[0m response \u001b[38;5;241m=\u001b[39m \u001b[38;5;28mself\u001b[39m\u001b[38;5;241m.\u001b[39mcommand_executor\u001b[38;5;241m.\u001b[39mexecute(driver_command, params)\n\u001b[0;32m    423\u001b[0m \u001b[38;5;28;01mif\u001b[39;00m response:\n\u001b[1;32m--> 424\u001b[0m     \u001b[38;5;28;43mself\u001b[39;49m\u001b[38;5;241;43m.\u001b[39;49m\u001b[43merror_handler\u001b[49m\u001b[38;5;241;43m.\u001b[39;49m\u001b[43mcheck_response\u001b[49m\u001b[43m(\u001b[49m\u001b[43mresponse\u001b[49m\u001b[43m)\u001b[49m\n\u001b[0;32m    425\u001b[0m     response[\u001b[38;5;124m'\u001b[39m\u001b[38;5;124mvalue\u001b[39m\u001b[38;5;124m'\u001b[39m] \u001b[38;5;241m=\u001b[39m \u001b[38;5;28mself\u001b[39m\u001b[38;5;241m.\u001b[39m_unwrap_value(\n\u001b[0;32m    426\u001b[0m         response\u001b[38;5;241m.\u001b[39mget(\u001b[38;5;124m'\u001b[39m\u001b[38;5;124mvalue\u001b[39m\u001b[38;5;124m'\u001b[39m, \u001b[38;5;28;01mNone\u001b[39;00m))\n\u001b[0;32m    427\u001b[0m     \u001b[38;5;28;01mreturn\u001b[39;00m response\n",
      "File \u001b[1;32m~\\anaconda3\\lib\\site-packages\\selenium\\webdriver\\remote\\errorhandler.py:247\u001b[0m, in \u001b[0;36mErrorHandler.check_response\u001b[1;34m(self, response)\u001b[0m\n\u001b[0;32m    245\u001b[0m         alert_text \u001b[38;5;241m=\u001b[39m value[\u001b[38;5;124m'\u001b[39m\u001b[38;5;124malert\u001b[39m\u001b[38;5;124m'\u001b[39m]\u001b[38;5;241m.\u001b[39mget(\u001b[38;5;124m'\u001b[39m\u001b[38;5;124mtext\u001b[39m\u001b[38;5;124m'\u001b[39m)\n\u001b[0;32m    246\u001b[0m     \u001b[38;5;28;01mraise\u001b[39;00m exception_class(message, screen, stacktrace, alert_text)  \u001b[38;5;66;03m# type: ignore[call-arg]  # mypy is not smart enough here\u001b[39;00m\n\u001b[1;32m--> 247\u001b[0m \u001b[38;5;28;01mraise\u001b[39;00m exception_class(message, screen, stacktrace)\n",
      "\u001b[1;31mWebDriverException\u001b[0m: Message: chrome not reachable\n  (Session info: chrome=105.0.5195.127)\nStacktrace:\nBacktrace:\n\tOrdinal0 [0x00A378B3+2193587]\n\tOrdinal0 [0x009D0681+1771137]\n\tOrdinal0 [0x008E4070+802928]\n\tOrdinal0 [0x008D9AB2+760498]\n\tOrdinal0 [0x008CC440+705600]\n\tOrdinal0 [0x00933BC0+1129408]\n\tOrdinal0 [0x0092D773+1103731]\n\tOrdinal0 [0x009077E0+948192]\n\tOrdinal0 [0x009086E6+952038]\n\tGetHandleVerifier [0x00CE0CB2+2738370]\n\tGetHandleVerifier [0x00CD21B8+2678216]\n\tGetHandleVerifier [0x00AC17AA+512954]\n\tGetHandleVerifier [0x00AC0856+509030]\n\tOrdinal0 [0x009D743B+1799227]\n\tOrdinal0 [0x009DBB68+1817448]\n\tOrdinal0 [0x009DBC55+1817685]\n\tOrdinal0 [0x009E5230+1856048]\n\tBaseThreadInitThunk [0x76A96739+25]\n\tRtlGetFullPathName_UEx [0x77D48FD2+1218]\n\tRtlGetFullPathName_UEx [0x77D48F9D+1165]\n"
     ]
    }
   ],
   "source": [
    "y = browser.initiate(url)"
   ]
  },
  {
   "cell_type": "code",
   "execution_count": 76,
   "id": "fd3ac266",
   "metadata": {},
   "outputs": [],
   "source": [
    "path = 'C:/Program Files/BraveSoftware/Brave-Browser/Application/brave.exe'\n",
    "headers =  {\n",
    "    'User-Agent' : 'Mozilla/5.0 (Windows NT 10.0; Win64; x64) AppleWebKit/537.36 (KHTML, like Gecko) Chrome/96.0.4664.110 Safari/537.36',\n",
    "    'Accept-Language' : 'en-GB,en;q=0.5',\n",
    "    'Referer' : 'https:google.com',\n",
    "    'DNT' : '1'\n",
    "}\n",
    "options = Options()\n",
    "options.binary_location = path\n",
    "options.add_argument('proxy-server=106.122.8.54:3128')\n",
    "options.add_argument('--user-data-dir=C:/Users/caaka/AppData/Local/BraveSoftware/Brave-Browser/User Data/Default')\n",
    "driver2 = uc.Chrome(options = options)\n",
    "driver2.request_interceptor = headers\n",
    "driver2.get(url)"
   ]
  },
  {
   "cell_type": "code",
   "execution_count": null,
   "id": "592b6f2e",
   "metadata": {},
   "outputs": [],
   "source": []
  }
 ],
 "metadata": {
  "kernelspec": {
   "display_name": "Python 3 (ipykernel)",
   "language": "python",
   "name": "python3"
  },
  "language_info": {
   "codemirror_mode": {
    "name": "ipython",
    "version": 3
   },
   "file_extension": ".py",
   "mimetype": "text/x-python",
   "name": "python",
   "nbconvert_exporter": "python",
   "pygments_lexer": "ipython3",
   "version": "3.9.7"
  }
 },
 "nbformat": 4,
 "nbformat_minor": 5
}
